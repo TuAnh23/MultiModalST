{
  "nbformat": 4,
  "nbformat_minor": 0,
  "metadata": {
    "accelerator": "GPU",
    "colab": {
      "name": "BachelorThesisST.ipynb",
      "provenance": [],
      "collapsed_sections": [],
      "machine_shape": "hm"
    },
    "kernelspec": {
      "display_name": "Python 3",
      "name": "python3"
    }
  },
  "cells": [
    {
      "cell_type": "code",
      "metadata": {
        "colab": {
          "base_uri": "https://localhost:8080/"
        },
        "id": "EyvqGNwIH-AC",
        "outputId": "6e218f64-4e81-4ee9-b340-3a55c680e6ba"
      },
      "source": [
        "!nvidia-smi"
      ],
      "execution_count": null,
      "outputs": [
        {
          "output_type": "stream",
          "text": [
            "Mon Jun 14 16:11:41 2021       \n",
            "+-----------------------------------------------------------------------------+\n",
            "| NVIDIA-SMI 465.27       Driver Version: 460.32.03    CUDA Version: 11.2     |\n",
            "|-------------------------------+----------------------+----------------------+\n",
            "| GPU  Name        Persistence-M| Bus-Id        Disp.A | Volatile Uncorr. ECC |\n",
            "| Fan  Temp  Perf  Pwr:Usage/Cap|         Memory-Usage | GPU-Util  Compute M. |\n",
            "|                               |                      |               MIG M. |\n",
            "|===============================+======================+======================|\n",
            "|   0  Tesla K80           Off  | 00000000:00:04.0 Off |                    0 |\n",
            "| N/A   66C    P8    32W / 149W |      0MiB / 11441MiB |      0%      Default |\n",
            "|                               |                      |                  N/A |\n",
            "+-------------------------------+----------------------+----------------------+\n",
            "                                                                               \n",
            "+-----------------------------------------------------------------------------+\n",
            "| Processes:                                                                  |\n",
            "|  GPU   GI   CI        PID   Type   Process name                  GPU Memory |\n",
            "|        ID   ID                                                   Usage      |\n",
            "|=============================================================================|\n",
            "|  No running processes found                                                 |\n",
            "+-----------------------------------------------------------------------------+\n"
          ],
          "name": "stdout"
        }
      ]
    },
    {
      "cell_type": "code",
      "metadata": {
        "id": "YUdzQvEd5kNj"
      },
      "source": [
        "from google.colab import drive\n",
        "drive.mount('/content/drive')"
      ],
      "execution_count": null,
      "outputs": []
    },
    {
      "cell_type": "code",
      "metadata": {
        "id": "9AkYvG-a6mO-"
      },
      "source": [
        "%%bash\n",
        "git clone \n",
        "cd tuanh_thesis\n",
        "git pull origin zeroshot_multi_modalities\n",
        "git checkout zeroshot_multi_modalities\n",
        "cd ../"
      ],
      "execution_count": null,
      "outputs": []
    },
    {
      "cell_type": "code",
      "metadata": {
        "id": "U925CDbV-40T"
      },
      "source": [
        "import os\n",
        "os.chdir('tuanh_thesis')"
      ],
      "execution_count": null,
      "outputs": []
    },
    {
      "cell_type": "code",
      "metadata": {
        "id": "_ZBokvNH9QaK"
      },
      "source": [
        "%%bash\n",
        "mkdir data\n",
        "mkdir data/CoVoST2\n",
        "mkdir data/CoVoST2/preprocessed\n",
        "mkdir data/CoVoST2/preprocessed/one_half\n",
        "mkdir data/CoVoST2/preprocessed/full\n",
        "mkdir data/CoVoST2/preprocessed/one_fourth\n",
        "mkdir data/CoVoST2/preprocessed/dummy\n",
        "mkdir data/CoVoST2/preprocessed/full/en-X"
      ],
      "execution_count": null,
      "outputs": []
    },
    {
      "cell_type": "markdown",
      "metadata": {
        "id": "E101LI__wu6S"
      },
      "source": [
        "Copy data to the session before installing environment to avoid running out of disk space (if needed)"
      ]
    },
    {
      "cell_type": "code",
      "metadata": {
        "id": "glDI1Ogilt9A"
      },
      "source": [
        "%%bash\n",
        "# cp /content/drive/MyDrive/full/en_audio* /content/tuanh_thesis/data/CoVoST2/preprocessed/full/en-X\n",
        "# cp /content/drive/MyDrive/full/en-X/en* /content/tuanh_thesis/data/CoVoST2/preprocessed/full/en-X\n",
        "# cp /content/drive/MyDrive/full/en-X/de* /content/tuanh_thesis/data/CoVoST2/preprocessed/full/en-X\n",
        "# cp -r /content/drive/MyDrive/one_half/en-X /content/tuanh_thesis/data/CoVoST2/preprocessed/one_half"
      ],
      "execution_count": null,
      "outputs": []
    },
    {
      "cell_type": "markdown",
      "metadata": {
        "id": "CIGDbf9Kw_CB"
      },
      "source": [
        "Install conda environment (Python 3.7)"
      ]
    },
    {
      "cell_type": "code",
      "metadata": {
        "id": "YHi0_oO67EVq"
      },
      "source": [
        "# try to run the bare minimum to get a new conda env working\n",
        "conda_path = ''\n",
        "try:\n",
        "    conda_path = !which conda\n",
        "finally:\n",
        "    print('')\n",
        "\n",
        "if (len(conda_path) == 0):\n",
        "    print('installing miniconda')\n",
        "    !wget https://repo.anaconda.com/miniconda/Miniconda3-py37_4.9.2-Linux-x86_64.sh && bash Miniconda3-py37_4.9.2-Linux-x86_64.sh -bfp /usr/local\n",
        "    !source /usr/local/etc/profile.d/conda.sh\n",
        "    !conda init \n",
        "    !conda install -n root _license -y -q\n",
        "else:\n",
        "    print('found miniconda')\n",
        "\n",
        "conda_envs = !conda env list\n",
        "res = [i for i in conda_envs if 'BachelorThesisST' in i]\n",
        "if (len(res) == 0):\n",
        "    print('not found BachelorThesisST env', len(res))\n",
        "    !conda create -y -q --name BachelorThesisST python=3.7 conda=4.9.2 \n",
        "else:\n",
        "    print('found BachelorThesisST env', len(res))"
      ],
      "execution_count": null,
      "outputs": []
    },
    {
      "cell_type": "markdown",
      "metadata": {
        "id": "viBeiDUMxNrh"
      },
      "source": [
        "Install the required packages"
      ]
    },
    {
      "cell_type": "code",
      "metadata": {
        "id": "bEvwEkjk7WYc"
      },
      "source": [
        "%%bash\n",
        "source activate BachelorThesisST\n",
        "conda install -y numpy\n",
        "conda install -y pandas\n",
        "conda install -y -c conda-forge sentencepiece\n",
        "conda install -y pytorch torchvision torchaudio cudatoolkit=10.1 -c pytorch\n",
        "conda install -y -c anaconda hdf5\n",
        "conda install -y -c conda-forge nvidia-apex\n",
        "conda install -y -c conda-forge librosa\n",
        "conda install -y -c powerai sacrebleu\n",
        "conda install -y h5py\n",
        "pip install kaldiio\n",
        "pip install vizseq\n",
        "git clone https://github.com/thomasZen/python_speech_features2\n",
        "cd python_speech_features2 \n",
        "python setup.py install\n",
        "cd ../\n",
        "conda install -y ipykernel"
      ],
      "execution_count": null,
      "outputs": []
    },
    {
      "cell_type": "code",
      "metadata": {
        "id": "JwpPFVvfExMl"
      },
      "source": [
        "# %%bash\n",
        "# source activate BachelorThesisST\n",
        "# conda env list\n",
        "# conda list\n",
        "# python\n",
        "# import sys\n",
        "# import cartopy\n",
        "# #import libarchive\n",
        "# # maybe only need this the first time we run this notebook\n",
        "# sys.path.append('/usr/local/lib/python3.6/site-packages')\n",
        "\n",
        "# print(\"Python version\")\n",
        "# print(sys.version)"
      ],
      "execution_count": null,
      "outputs": []
    },
    {
      "cell_type": "markdown",
      "metadata": {
        "id": "Nd_5_yGiVcBl"
      },
      "source": [
        "Download data (or copy from the mounted gg drive)\n",
        "To download data from gg drive, we can use gdown"
      ]
    },
    {
      "cell_type": "code",
      "metadata": {
        "id": "ZJXELniYVaLJ"
      },
      "source": [
        "# %%bash\n",
        "# source activate BachelorThesisST\n",
        "# jupyter notebook --NotebookApp.iopub_data_rate_limit=10000000\n",
        "# mkdir data/CoVoST2/en\n",
        "# wget https://voice-prod-bundler-ee1969a6ce8178826482b88e843c335139bd3fb4.s3.amazonaws.com/cv-corpus-4-2019-12-10/en.tar.gz\n",
        "# tar -xf en.tar.gz -C /content/tuanh_thesis/data/CoVoST2/en\n",
        "# rm en.tar.gz\n",
        "# python covost_data_preparation.py"
      ],
      "execution_count": null,
      "outputs": []
    },
    {
      "cell_type": "code",
      "metadata": {
        "id": "9axtxQ0V6JuR"
      },
      "source": [
        "%%bash\n",
        "# cp -r /content/drive/MyDrive/dummy/en-X /content/tuanh_thesis/data/CoVoST2/preprocessed/dummy\n",
        "# cp /content/drive/MyDrive/dummy/full_ad_preprocessed_text/* /content/tuanh_thesis/data/CoVoST2/preprocessed/dummy/en-X\n",
        "# Use sentencepiece model of full data in case you want to fine tune on full model\n",
        "# cp /content/drive/MyDrive/dummy/full_preprocessed_text/* /content/tuanh_thesis/data/CoVoST2/preprocessed/dummy/en-X\n",
        "# Use sentencepiece model of one_fourth data in case you want to fine tune on one_fourth model\n",
        "# cp /content/drive/MyDrive/dummy/one_fourth_preprocessed_text/* /content/tuanh_thesis/data/CoVoST2/preprocessed/dummy/en-X"
      ],
      "execution_count": null,
      "outputs": []
    },
    {
      "cell_type": "code",
      "metadata": {
        "id": "SiRuoEoaYBM3"
      },
      "source": [
        "# %%bash\n",
        "# cp /content/drive/MyDrive/one_third.zip /content/tuanh_thesis/data/CoVoST2/preprocessed/\n",
        "# cd data/CoVoST2/preprocessed\n",
        "# unzip one_third.zip\n",
        "# rm one_third.zip\n",
        "# cd ../../.."
      ],
      "execution_count": null,
      "outputs": []
    },
    {
      "cell_type": "code",
      "metadata": {
        "colab": {
          "background_save": true
        },
        "id": "lCFPHYff1GY7"
      },
      "source": [
        "%%bash\n",
        "# pip install gdown\n",
        "# cd data/CoVoST2/preprocessed\n",
        "# gdown --id 1eaA2UN0KDIpfuktOC6_zD7WN2YsB8Pk0\n",
        "# unzip one_fourth.zip\n",
        "# rm one_fourth.zip\n",
        "# cd ../../..\n",
        "# ----------------------------------------------\n",
        "# cd data/CoVoST2/preprocessed\n",
        "# cp /content/drive/MyDrive/one_fourth.zip .\n",
        "# unzip one_fourth.zip\n",
        "# rm one_fourth.zip\n",
        "# cd ../../..\n",
        "# ----------------------------------------------\n",
        "cp -r /content/drive/MyDrive/one_fourth/en-X /content/tuanh_thesis/data/CoVoST2/preprocessed/one_fourth\n",
        "cp /content/drive/MyDrive/one_fourth/full_ad_preprocessed_text/* /content/tuanh_thesis/data/CoVoST2/preprocessed/one_fourth/en-X\n",
        "# cp /content/drive/MyDrive/one_fourth/self_preprocessed_text/* /content/tuanh_thesis/data/CoVoST2/preprocessed/one_fourth/en-X\n",
        "# Use sentencepiece model of additional data in case you want to run bidirectional zeroshot\n",
        "# cp /content/drive/MyDrive/one_fourth/ad_preprocessed_text/* /content/tuanh_thesis/data/CoVoST2/preprocessed/one_fourth/en-X\n",
        "# Use sentencepiece model of full data in case you want to fine tune on full model\n",
        "# cp /content/drive/MyDrive/one_fourth/full_preprocessed_text/* /content/tuanh_thesis/data/CoVoST2/preprocessed/one_fourth/en-X"
      ],
      "execution_count": null,
      "outputs": []
    },
    {
      "cell_type": "code",
      "metadata": {
        "colab": {
          "background_save": true
        },
        "id": "UmgXmztFLwLc"
      },
      "source": [
        "%%bash\n",
        "# cp -r /content/drive/MyDrive/dummy/de-en /content/tuanh_thesis/data/CoVoST2/preprocessed/dummy"
      ],
      "execution_count": null,
      "outputs": []
    },
    {
      "cell_type": "code",
      "metadata": {
        "colab": {
          "background_save": true
        },
        "id": "nQwmv9gGcRa8"
      },
      "source": [
        "# !mkdir data/CoVoST2/preprocessed/quick_eval\n",
        "# !mkdir data/CoVoST2/preprocessed/quick_eval/en-X\n",
        "# !cp /content/drive/MyDrive/quick_eval2000/en-X/*_test* /content/tuanh_thesis/data/CoVoST2/preprocessed/quick_eval/en-X\n",
        "# !cp /content/drive/MyDrive/quick_eval2000/en-X/full_preprocessed_text/* /content/tuanh_thesis/data/CoVoST2/preprocessed/quick_eval/en-X"
      ],
      "execution_count": null,
      "outputs": []
    },
    {
      "cell_type": "markdown",
      "metadata": {
        "id": "EJTfkVOBxhOp"
      },
      "source": [
        "Run the bash script"
      ]
    },
    {
      "cell_type": "markdown",
      "metadata": {
        "id": "vcNlQMUvOj4Z"
      },
      "source": [
        "Upload the data and change the first line in the shell script to . /usr/local/etc/profile.d/conda.sh"
      ]
    },
    {
      "cell_type": "code",
      "metadata": {
        "id": "0v0ahEzsB6t7"
      },
      "source": [
        "# !bash run_fine_tunning.sh"
      ],
      "execution_count": null,
      "outputs": []
    },
    {
      "cell_type": "code",
      "metadata": {
        "id": "XwnS6iOhcWPs"
      },
      "source": [
        "while True:pass"
      ],
      "execution_count": null,
      "outputs": []
    },
    {
      "cell_type": "code",
      "metadata": {
        "id": "-ULbu07ZsB1Z"
      },
      "source": [
        "# %%bash\n",
        "# git fetch\n",
        "# git reset --hard origin/zeroshot_multi_modalities"
      ],
      "execution_count": null,
      "outputs": []
    },
    {
      "cell_type": "code",
      "metadata": {
        "id": "lbjpMDHFAf9K"
      },
      "source": [
        ""
      ],
      "execution_count": null,
      "outputs": []
    }
  ]
}