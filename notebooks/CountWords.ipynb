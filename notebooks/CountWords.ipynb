{
 "cells": [
  {
   "cell_type": "code",
   "execution_count": 4,
   "metadata": {},
   "outputs": [],
   "source": [
    "encoded_translations_st = r\"C:\\Users\\TuAhnDinh\\Desktop\\MediaanProjects\\BachelorThesisST\\data\\CoVoST2\\preprocessed\\full\\en-X\\self_preprocessed_text\\de_text_test.txt\"\n",
    "de_vocab_path = r\"C:\\Users\\TuAhnDinh\\Desktop\\MediaanProjects\\BachelorThesisST\\data\\CoVoST2\\preprocessed\\full\\en-X\\self_preprocessed_text\\de_text.vocab\"\n",
    "en_vocab_path = r\"C:\\Users\\TuAhnDinh\\Desktop\\MediaanProjects\\BachelorThesisST\\data\\CoVoST2\\preprocessed\\full\\en-X\\self_preprocessed_text\\en_text.vocab\"\n",
    "\n",
    "word_lang_stats(encoded_translations_st, de_vocab_path, en_vocab_path, outfile='out.txt')"
   ]
  },
  {
   "cell_type": "code",
   "execution_count": 1,
   "metadata": {},
   "outputs": [],
   "source": [
    "def word_lang_stats(encoded_translations_st, de_vocab_path, en_vocab_path, outfile):\n",
    "    with open(de_vocab_path, 'r', encoding=\"utf-8\") as f:\n",
    "        de_vocab = f.readlines()\n",
    "    de_vocab = [line.split()[0] for line in de_vocab]\n",
    "\n",
    "    with open(en_vocab_path, 'r', encoding=\"utf-8\") as f:\n",
    "        en_vocab = f.readlines()\n",
    "    en_vocab = [line.split()[0] for line in en_vocab]\n",
    "\n",
    "    with open(encoded_translations_st, 'r', encoding=\"utf-8\") as f:\n",
    "        encoded_lines = f.readlines()\n",
    "    encoded_lines = [[i for i in string.split()] for string in encoded_lines]\n",
    "\n",
    "    count_DE_words = 0\n",
    "    count_EN_words = 0\n",
    "    count_common_words = 0\n",
    "    count_all_words = 0\n",
    "    for line in encoded_lines:\n",
    "        for word in line:\n",
    "            count_all_words = count_all_words + 1\n",
    "            if (word in de_vocab) and (word in en_vocab):\n",
    "                count_common_words = count_common_words + 1\n",
    "            elif word in de_vocab:\n",
    "                count_DE_words = count_DE_words + 1\n",
    "            elif word in en_vocab:\n",
    "                count_EN_words = count_EN_words + 1\n",
    "                \n",
    "    with open(outfile, 'a', encoding=\"utf-8\") as f:\n",
    "        f.write(f\"st stats: {count_common_words/count_all_words*100} common \\n\" +\n",
    "                f\"          {count_EN_words/count_all_words*100} EN \\n\" +\n",
    "                f\"          {count_DE_words/count_all_words*100} DE \\n\")"
   ]
  },
  {
   "cell_type": "code",
   "execution_count": null,
   "metadata": {},
   "outputs": [],
   "source": []
  }
 ],
 "metadata": {
  "kernelspec": {
   "display_name": "Python 3",
   "language": "python",
   "name": "python3"
  },
  "language_info": {
   "codemirror_mode": {
    "name": "ipython",
    "version": 3
   },
   "file_extension": ".py",
   "mimetype": "text/x-python",
   "name": "python",
   "nbconvert_exporter": "python",
   "pygments_lexer": "ipython3",
   "version": "3.7.9"
  }
 },
 "nbformat": 4,
 "nbformat_minor": 4
}
